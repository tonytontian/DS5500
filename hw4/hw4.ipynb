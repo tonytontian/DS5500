{
 "cells": [
  {
   "cell_type": "code",
   "execution_count": 50,
   "metadata": {},
   "outputs": [
    {
     "name": "stderr",
     "output_type": "stream",
     "text": [
      "/Library/Frameworks/Python.framework/Versions/3.6/lib/python3.6/site-packages/IPython/core/interactiveshell.py:2785: DtypeWarning: Columns (0,3) have mixed types. Specify dtype option on import or set low_memory=False.\n",
      "  interactivity=interactivity, compiler=compiler, result=result)\n",
      "/Library/Frameworks/Python.framework/Versions/3.6/lib/python3.6/site-packages/IPython/core/interactiveshell.py:2785: DtypeWarning: Columns (6) have mixed types. Specify dtype option on import or set low_memory=False.\n",
      "  interactivity=interactivity, compiler=compiler, result=result)\n"
     ]
    }
   ],
   "source": [
    "import pandas as pd\n",
    "data = pd.read_csv('./data/Sdf16_1a.txt',sep='\\t')\n",
    "math_data = pd.read_csv('./data/Sdf16_1a.txt',sep='\\t')\n",
    "race_data = pd.read_csv('./data/ccd_lea_052_1516_w_1a_011717.csv')\n",
    "disab_data = pd.read_csv('./data/ccd_lea_002089_1516_w_1a_011717.csv')"
   ]
  },
  {
   "cell_type": "markdown",
   "metadata": {},
   "source": [
    "# Question 1\n",
    "\n",
    "Since I was cutting off budget for every school evenly by 15%. The proportion for every district should all be 15%. But for the sake of finishing other questions, I decided to use another cutting off strategy, which is only cut fedural fund from school districts with positive profits even without federal fund."
   ]
  },
  {
   "cell_type": "code",
   "execution_count": 23,
   "metadata": {},
   "outputs": [
    {
     "name": "stdout",
     "output_type": "stream",
     "text": [
      "proportion of cutting off for valid school districts\n",
      "0.9981301981980688\n"
     ]
    }
   ],
   "source": [
    "data[\"NET_PROFIT_WITHOUT_FEDREV\"] = data[\"TOTALREV\"] - data[\"TOTALEXP\"] - data[\"TFEDREV\"]\n",
    "# calculate the total federal revenue made by schools with positive profit.\n",
    "data_positive_profit_without_fedrev = data[(data[\"NET_PROFIT_WITHOUT_FEDREV\"] > 0) & (data[\"TFEDREV\"] > 0)]\n",
    "data_negative_profit_without_fedrev = data[(data[\"NET_PROFIT_WITHOUT_FEDREV\"] < 0) | (data[\"TFEDREV\"] < 0)]\n",
    "#total federal revenue should be cut off\n",
    "data[\"TFEDREV\"].sum()*0.15\n",
    "# proportion should be extract from positive net profit without federal revenue\n",
    "\n",
    "cutoff_proportion = (data[\"TFEDREV\"].sum()*0.15) / data_positive_profit_without_fedrev[\"TFEDREV\"].sum()\n",
    "print(\"proportion of cutting off for valid school districts\")\n",
    "print(cutoff_proportion)"
   ]
  },
  {
   "cell_type": "code",
   "execution_count": 24,
   "metadata": {},
   "outputs": [
    {
     "name": "stderr",
     "output_type": "stream",
     "text": [
      "/Library/Frameworks/Python.framework/Versions/3.6/lib/python3.6/site-packages/ipykernel_launcher.py:1: SettingWithCopyWarning: \n",
      "A value is trying to be set on a copy of a slice from a DataFrame.\n",
      "Try using .loc[row_indexer,col_indexer] = value instead\n",
      "\n",
      "See the caveats in the documentation: http://pandas.pydata.org/pandas-docs/stable/indexing.html#indexing-view-versus-copy\n",
      "  \"\"\"Entry point for launching an IPython kernel.\n"
     ]
    }
   ],
   "source": [
    "data_positive_profit_without_fedrev[\"CUTOFF\"] = data_positive_profit_without_fedrev[\"TFEDREV\"]*cutoff_proportion"
   ]
  },
  {
   "cell_type": "code",
   "execution_count": 29,
   "metadata": {},
   "outputs": [
    {
     "data": {
      "text/plain": [
       "<matplotlib.axes._subplots.AxesSubplot at 0x134c0b5f8>"
      ]
     },
     "execution_count": 29,
     "metadata": {},
     "output_type": "execute_result"
    },
    {
     "data": {
      "image/png": "[encoded data removed]",
      "text/plain": [
       "<Figure size 432x288 with 1 Axes>"
      ]
     },
     "metadata": {},
     "output_type": "display_data"
    }
   ],
   "source": [
    "top_cutoff = data_positive_profit_without_fedrev[[\"LEAID\", \"CUTOFF\", \"TFEDREV\"]].sort_values(by = \"CUTOFF\", ascending = False).head(15)\n",
    "top_cutoff.plot.bar(x = \"LEAID\")"
   ]
  },
  {
   "cell_type": "code",
   "execution_count": 30,
   "metadata": {},
   "outputs": [
    {
     "data": {
      "text/html": [
       "<div>\n",
       "<style scoped>\n",
       "    .dataframe tbody tr th:only-of-type {\n",
       "        vertical-align: middle;\n",
       "    }\n",
       "\n",
       "    .dataframe tbody tr th {\n",
       "        vertical-align: top;\n",
       "    }\n",
       "\n",
       "    .dataframe thead th {\n",
       "        text-align: right;\n",
       "    }\n",
       "</style>\n",
       "<table border=\"1\" class=\"dataframe\">\n",
       "  <thead>\n",
       "    <tr style=\"text-align: right;\">\n",
       "      <th></th>\n",
       "      <th>LEAID</th>\n",
       "      <th>CUTOFF</th>\n",
       "      <th>TFEDREV</th>\n",
       "    </tr>\n",
       "  </thead>\n",
       "  <tbody>\n",
       "    <tr>\n",
       "      <th>3306</th>\n",
       "      <td>1500030</td>\n",
       "      <td>2.606427e+08</td>\n",
       "      <td>261131000</td>\n",
       "    </tr>\n",
       "    <tr>\n",
       "      <th>6328</th>\n",
       "      <td>2400480</td>\n",
       "      <td>1.125062e+08</td>\n",
       "      <td>112717000</td>\n",
       "    </tr>\n",
       "    <tr>\n",
       "      <th>6006</th>\n",
       "      <td>2201170</td>\n",
       "      <td>1.020848e+08</td>\n",
       "      <td>102276000</td>\n",
       "    </tr>\n",
       "    <tr>\n",
       "      <th>7676</th>\n",
       "      <td>2680995</td>\n",
       "      <td>7.288247e+07</td>\n",
       "      <td>73019000</td>\n",
       "    </tr>\n",
       "    <tr>\n",
       "      <th>2240</th>\n",
       "      <td>0638010</td>\n",
       "      <td>5.471949e+07</td>\n",
       "      <td>54822000</td>\n",
       "    </tr>\n",
       "    <tr>\n",
       "      <th>2575</th>\n",
       "      <td>0804800</td>\n",
       "      <td>5.085673e+07</td>\n",
       "      <td>50952000</td>\n",
       "    </tr>\n",
       "    <tr>\n",
       "      <th>7665</th>\n",
       "      <td>2680880</td>\n",
       "      <td>5.007819e+07</td>\n",
       "      <td>50172000</td>\n",
       "    </tr>\n",
       "    <tr>\n",
       "      <th>15911</th>\n",
       "      <td>4800211</td>\n",
       "      <td>4.516439e+07</td>\n",
       "      <td>45249000</td>\n",
       "    </tr>\n",
       "    <tr>\n",
       "      <th>1720</th>\n",
       "      <td>613920</td>\n",
       "      <td>4.442178e+07</td>\n",
       "      <td>44505000</td>\n",
       "    </tr>\n",
       "    <tr>\n",
       "      <th>4893</th>\n",
       "      <td>1810290</td>\n",
       "      <td>4.218098e+07</td>\n",
       "      <td>42260000</td>\n",
       "    </tr>\n",
       "    <tr>\n",
       "      <th>7654</th>\n",
       "      <td>2680720</td>\n",
       "      <td>4.158111e+07</td>\n",
       "      <td>41659000</td>\n",
       "    </tr>\n",
       "    <tr>\n",
       "      <th>1375</th>\n",
       "      <td>601332</td>\n",
       "      <td>4.139645e+07</td>\n",
       "      <td>41474000</td>\n",
       "    </tr>\n",
       "    <tr>\n",
       "      <th>1972</th>\n",
       "      <td>625800</td>\n",
       "      <td>4.014579e+07</td>\n",
       "      <td>40221000</td>\n",
       "    </tr>\n",
       "    <tr>\n",
       "      <th>16881</th>\n",
       "      <td>4841220</td>\n",
       "      <td>3.836713e+07</td>\n",
       "      <td>38439000</td>\n",
       "    </tr>\n",
       "    <tr>\n",
       "      <th>1644</th>\n",
       "      <td>609850</td>\n",
       "      <td>3.690686e+07</td>\n",
       "      <td>36976000</td>\n",
       "    </tr>\n",
       "  </tbody>\n",
       "</table>\n",
       "</div>"
      ],
      "text/plain": [
       "         LEAID        CUTOFF    TFEDREV\n",
       "3306   1500030  2.606427e+08  261131000\n",
       "6328   2400480  1.125062e+08  112717000\n",
       "6006   2201170  1.020848e+08  102276000\n",
       "7676   2680995  7.288247e+07   73019000\n",
       "2240   0638010  5.471949e+07   54822000\n",
       "2575   0804800  5.085673e+07   50952000\n",
       "7665   2680880  5.007819e+07   50172000\n",
       "15911  4800211  4.516439e+07   45249000\n",
       "1720    613920  4.442178e+07   44505000\n",
       "4893   1810290  4.218098e+07   42260000\n",
       "7654   2680720  4.158111e+07   41659000\n",
       "1375    601332  4.139645e+07   41474000\n",
       "1972    625800  4.014579e+07   40221000\n",
       "16881  4841220  3.836713e+07   38439000\n",
       "1644    609850  3.690686e+07   36976000"
      ]
     },
     "execution_count": 30,
     "metadata": {},
     "output_type": "execute_result"
    }
   ],
   "source": [
    "top_cutoff"
   ]
  },
  {
   "cell_type": "markdown",
   "metadata": {},
   "source": [
    "# Question 2\n",
    "\n",
    "A common problem with purely data-driven solutions is that they can inadvertently perpetuate hidden\n",
    "pre-existing biases in the data, and further disadvantage groups that are already disadvantaged.\n",
    "\n",
    "Calculate the proportion of enrolled students by race for each district, then visualize the distributions of\n",
    "these for districts that received budget cuts versus districts that did not receive budget cuts.\n",
    "\n",
    "Comment on whether the the distributions appear to be the same or different. Did your selection include any\n",
    "hidden biases, or manage to avoid them?"
   ]
  },
  {
   "cell_type": "code",
   "execution_count": 34,
   "metadata": {},
   "outputs": [],
   "source": [
    "race_data_with_cutoff = pd.merge(data_positive_profit_without_fedrev, race_data, how = \"inner\", on = \"LEAID\")[[\"TOTAL\", \"AM\", 'AS', \n",
    "           'HI', 'BL', 'WH', 'HP', 'TR']]\n",
    "race_data_without_cutoff = pd.merge(data_negative_profit_without_fedrev, race_data, how = \"inner\", on = \"LEAID\")[[\"TOTAL\", \"AM\", 'AS', \n",
    "           'HI', 'BL', 'WH', 'HP', 'TR']]"
   ]
  },
  {
   "cell_type": "code",
   "execution_count": 37,
   "metadata": {},
   "outputs": [],
   "source": [
    "race_data_with_cutoff = race_data_with_cutoff[race_data_with_cutoff[\"TOTAL\"] > 0]\n",
    "race_data_without_cutoff = race_data_without_cutoff[race_data_without_cutoff[\"TOTAL\"] > 0]"
   ]
  },
  {
   "cell_type": "code",
   "execution_count": 47,
   "metadata": {},
   "outputs": [
    {
     "data": {
      "text/plain": [
       "<matplotlib.axes._subplots.AxesSubplot at 0x130497f60>"
      ]
     },
     "execution_count": 47,
     "metadata": {},
     "output_type": "execute_result"
    },
    {
     "data": {
      "image/png": "[encoded data removed]",
      "text/plain": [
       "<Figure size 432x288 with 1 Axes>"
      ]
     },
     "metadata": {},
     "output_type": "display_data"
    }
   ],
   "source": [
    "total_student_cutoff = race_data_with_cutoff[\"TOTAL\"].sum()\n",
    "race_proportion_cutoff = race_data_with_cutoff.sum().drop(\"TOTAL\")/total_student_cutoff\n",
    "race_proportion_cutoff.plot.bar()"
   ]
  },
  {
   "cell_type": "code",
   "execution_count": 48,
   "metadata": {},
   "outputs": [
    {
     "data": {
      "text/plain": [
       "<matplotlib.axes._subplots.AxesSubplot at 0x130d16be0>"
      ]
     },
     "execution_count": 48,
     "metadata": {},
     "output_type": "execute_result"
    },
    {
     "data": {
      "image/png": "[encoded data removed]",
      "text/plain": [
       "<Figure size 432x288 with 1 Axes>"
      ]
     },
     "metadata": {},
     "output_type": "display_data"
    }
   ],
   "source": [
    "total_student_nocutoff = race_data_without_cutoff[\"TOTAL\"].sum()\n",
    "race_proportion_nocutoff = race_data_without_cutoff.sum().drop(\"TOTAL\")/total_student_nocutoff\n",
    "race_proportion_nocutoff.plot.bar()"
   ]
  },
  {
   "cell_type": "markdown",
   "metadata": {},
   "source": [
    "There is no obvious difference between school which are cut off federal revenue and schools are not cut off  by my strategy in terms of distribution of students' races "
   ]
  },
  {
   "cell_type": "markdown",
   "metadata": {},
   "source": [
    "# Question 3\n",
    "\n",
    "Calculate the proportion of enrolled students by disability status (students with an IEP under IDEA) for each\n",
    "district, then visualize the distributions of these proportions for districts that received budget cuts versus\n",
    "districts that did not receive budget cuts.\n",
    "\n",
    "Comment on whether the the distributions appear to be the same or different. Did your selection include any\n",
    "hidden biases, or manage to avoid them?"
   ]
  },
  {
   "cell_type": "code",
   "execution_count": 59,
   "metadata": {},
   "outputs": [],
   "source": [
    "student_count_data_with_cutoff = pd.merge(data_positive_profit_without_fedrev, race_data, how = \"inner\", on = \"LEAID\")[[\"TOTAL\", \"LEAID\"]]\n",
    "student_count_data_without_cutoff = pd.merge(data_negative_profit_without_fedrev, race_data, how = \"inner\", on = \"LEAID\")[[\"TOTAL\", \"LEAID\"]]\n",
    "disab_count_data_with_cutoff = pd.merge(student_count_data_with_cutoff,disab_data, how = \"inner\", on = \"LEAID\")[[\"TOTAL\", \"SPECED\"]]\n",
    "disab_count_data_without_cutoff = pd.merge(student_count_data_without_cutoff,disab_data, how = \"inner\", on = \"LEAID\")[[\"TOTAL\", \"SPECED\"]]\n",
    "\n"
   ]
  },
  {
   "cell_type": "code",
   "execution_count": 63,
   "metadata": {},
   "outputs": [
    {
     "name": "stdout",
     "output_type": "stream",
     "text": [
      "the proportion of the disability student for school districts with cut off federal budegts is\n",
      "0.12695213181650877\n"
     ]
    }
   ],
   "source": [
    "print(\"the proportion of the disability student for school districts with cutting off federal budegts is\")\n",
    "print(disab_count_data_with_cutoff.sum()[\"SPECED\"] / disab_count_data_with_cutoff.sum()[\"TOTAL\"])"
   ]
  },
  {
   "cell_type": "code",
   "execution_count": 64,
   "metadata": {},
   "outputs": [
    {
     "name": "stdout",
     "output_type": "stream",
     "text": [
      "the proportion of the disability student for school districts without cut off federal budegts is\n",
      "0.12808494627506734\n"
     ]
    }
   ],
   "source": [
    "print(\"the proportion of the disability student for school districts without cutting off federal budegts is\")\n",
    "print(disab_count_data_without_cutoff.sum()[\"SPECED\"] / disab_count_data_without_cutoff.sum()[\"TOTAL\"])"
   ]
  },
  {
   "cell_type": "markdown",
   "metadata": {},
   "source": [
    "It turns out that the proportion of schools without cuttinig off federal revenue is slightly higher than school without cutting of the federal revenue. But the difference is not significant."
   ]
  },
  {
   "cell_type": "markdown",
   "metadata": {},
   "source": [
    "# Question 4\n",
    "\n",
    "Choose and critique one of your fellow classmates’ selection of schools for budget cuts in HW 3 Problem 4\n",
    "and Problem 5. What was the justification of their selection? Discuss any advantages or disadvantages of\n",
    "their approach.\n",
    "\n",
    "\n",
    "\n",
    "I am choosing the work of Tian Sang's work. He is using the uniformly cutting off srategy by treating every school district same and cut off 15% of the federal revenue. That good things of doing this is it treat every school same and without including any bias based on geografic, race, profit, income and other factors.But the cons are also obvious because some of the school may rely on federal revenue more than the other school districts. So it is not real \"even\" if we consider the federal revenue should go to schools hard to matain themselves."
   ]
  },
  {
   "cell_type": "markdown",
   "metadata": {},
   "source": [
    "# Question 5\n",
    "\n",
    "Summarize and comment on what you learned from one the special topics lectures (MapReduce + Hadoop,\n",
    "Visualization, Causal Inference, or the Industry Panel) of your choice.\n",
    "\n",
    "I personally like mapreduce and hadoop more. I learn how engineers deal with large scale dataset. I am also amazed by the infrastracture engineers came up with. Use master slave model to solve task assignment and also handle the single point failure. The thinking process changes dramatically when it comes to the large scale. Many daily life intuitions become origin ideas for solving realy word problems. "
   ]
  },
  {
   "cell_type": "code",
   "execution_count": null,
   "metadata": {},
   "outputs": [],
   "source": []
  }
 ],
 "metadata": {
  "kernelspec": {
   "display_name": "Python 3",
   "language": "python",
   "name": "python3"
  },
  "language_info": {
   "codemirror_mode": {
    "name": "ipython",
    "version": 3
   },
   "file_extension": ".py",
   "mimetype": "text/x-python",
   "name": "python",
   "nbconvert_exporter": "python",
   "pygments_lexer": "ipython3",
   "version": "3.6.4"
  }
 },
 "nbformat": 4,
 "nbformat_minor": 2
}
